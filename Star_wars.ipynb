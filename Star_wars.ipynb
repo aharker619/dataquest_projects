{
 "cells": [
  {
   "cell_type": "markdown",
   "metadata": {},
   "source": [
    "# Data Cleaning: Star Wars"
   ]
  },
  {
   "cell_type": "code",
   "execution_count": null,
   "metadata": {
    "collapsed": true
   },
   "outputs": [],
   "source": [
    "import pandas as pd\n",
    "import numpy as np"
   ]
  },
  {
   "cell_type": "code",
   "execution_count": null,
   "metadata": {
    "collapsed": true
   },
   "outputs": [],
   "source": [
    "star_wars = pd.read_csv(\"star_wars.csv\", encoding=\"ISO-8859-1\")"
   ]
  },
  {
   "cell_type": "code",
   "execution_count": null,
   "metadata": {},
   "outputs": [],
   "source": [
    "star_wars.head(10)"
   ]
  },
  {
   "cell_type": "markdown",
   "metadata": {},
   "source": [
    "## Remove null respondents"
   ]
  },
  {
   "cell_type": "code",
   "execution_count": null,
   "metadata": {},
   "outputs": [],
   "source": [
    "star_wars.columns"
   ]
  },
  {
   "cell_type": "code",
   "execution_count": null,
   "metadata": {
    "collapsed": true
   },
   "outputs": [],
   "source": [
    "star_wars = star_wars[star_wars['RespondentID'].notnull()]"
   ]
  },
  {
   "cell_type": "markdown",
   "metadata": {},
   "source": [
    "## Convert Yes/No to Boolean and rename columns"
   ]
  },
  {
   "cell_type": "code",
   "execution_count": null,
   "metadata": {
    "collapsed": true
   },
   "outputs": [],
   "source": [
    "yes_no = {\n",
    "    \"Yes\": True,\n",
    "    \"No\": False\n",
    "}\n",
    "star_wars['Have you seen any of the 6 films in the Star Wars franchise?'] = (\n",
    "    star_wars['Have you seen any of the 6 films in the Star Wars franchise?'].map(yes_no))"
   ]
  },
  {
   "cell_type": "code",
   "execution_count": null,
   "metadata": {
    "collapsed": true
   },
   "outputs": [],
   "source": [
    "star_wars['Do you consider yourself to be a fan of the Star Wars film franchise?'] = (\n",
    "    star_wars['Do you consider yourself to be a fan of the Star Wars film franchise?'].map(yes_no))"
   ]
  },
  {
   "cell_type": "code",
   "execution_count": null,
   "metadata": {},
   "outputs": [],
   "source": [
    "star_wars['Have you seen any of the 6 films in the Star Wars franchise?'].value_counts(dropna = False)"
   ]
  },
  {
   "cell_type": "code",
   "execution_count": null,
   "metadata": {},
   "outputs": [],
   "source": [
    "star_wars['Do you consider yourself to be a fan of the Star Wars film franchise?'].value_counts(dropna = False)"
   ]
  },
  {
   "cell_type": "code",
   "execution_count": null,
   "metadata": {},
   "outputs": [],
   "source": [
    "film_map = {\n",
    "    \"Star Wars: Episode I  The Phantom Menace\": True,\n",
    "    \"Star Wars: Episode II  Attack of the Clones\": True,\n",
    "    \"Star Wars: Episode III  Revenge of the Sith\": True,\n",
    "    \"Star Wars: Episode IV  A New Hope\": True,\n",
    "    \"Star Wars: Episode V The Empire Strikes Back\": True,\n",
    "    \"Star Wars: Episode VI Return of the Jedi\": True,\n",
    "    np.nan: False,\n",
    "}\n",
    "\n",
    "for col in star_wars.columns[3:9]:\n",
    "    star_wars[col] = star_wars[col].map(film_map)"
   ]
  },
  {
   "cell_type": "code",
   "execution_count": null,
   "metadata": {},
   "outputs": [],
   "source": [
    "star_wars.head()"
   ]
  },
  {
   "cell_type": "code",
   "execution_count": null,
   "metadata": {},
   "outputs": [],
   "source": [
    "star_wars = star_wars.rename(columns={\n",
    "    'Which of the following Star Wars films have you seen? Please select all that apply.': 'seen_1',\n",
    "    'Unnamed: 4': 'seen_2',\n",
    "    'Unnamed: 5': 'seen_3',\n",
    "    'Unnamed: 6': 'seen_4',\n",
    "    'Unnamed: 7': 'seen_5',\n",
    "    'Unnamed: 8': 'seen_6'\n",
    "})"
   ]
  },
  {
   "cell_type": "code",
   "execution_count": null,
   "metadata": {},
   "outputs": [],
   "source": [
    "star_wars.head()"
   ]
  },
  {
   "cell_type": "markdown",
   "metadata": {},
   "source": [
    "## Convert ranking columns to numeric and rename"
   ]
  },
  {
   "cell_type": "code",
   "execution_count": null,
   "metadata": {},
   "outputs": [],
   "source": [
    "star_wars[star_wars.columns[9:15]] = star_wars[star_wars.columns[9:15]].astype(float)\n",
    "star_wars = star_wars.rename(columns={\n",
    "    'Please rank the Star Wars films in order of preference with 1 being your favorite film in the franchise and 6 being your least favorite film.': 'ranking_1',\n",
    "    'Unnamed: 10': 'ranking_2',\n",
    "    'Unnamed: 11': 'ranking_3',\n",
    "    'Unnamed: 12': 'ranking_4',\n",
    "    'Unnamed: 13': 'ranking_5',\n",
    "    'Unnamed: 14': 'ranking_6'\n",
    "})"
   ]
  },
  {
   "cell_type": "code",
   "execution_count": null,
   "metadata": {},
   "outputs": [],
   "source": [
    "star_wars.columns"
   ]
  },
  {
   "cell_type": "markdown",
   "metadata": {},
   "source": [
    "## Find highest ranked movie"
   ]
  },
  {
   "cell_type": "code",
   "execution_count": null,
   "metadata": {},
   "outputs": [],
   "source": [
    "film_means = star_wars[['ranking_1', 'ranking_2', 'ranking_3', 'ranking_4', 'ranking_5', 'ranking_6']].mean()"
   ]
  },
  {
   "cell_type": "code",
   "execution_count": null,
   "metadata": {
    "collapsed": true
   },
   "outputs": [],
   "source": [
    "import matplotlib.pyplot as plt\n",
    "% matplotlib inline"
   ]
  },
  {
   "cell_type": "code",
   "execution_count": null,
   "metadata": {},
   "outputs": [],
   "source": [
    "index = np.arange(6)\n",
    "width = 0.5\n",
    "labels = ['I', 'II', 'III', 'IV', 'V', 'VI']\n",
    "fig, ax = plt.subplots()\n",
    "ax.bar(index, star_wars[star_wars.columns[9:15]].mean(), width = width)\n",
    "ax.set_xticks(index)\n",
    "ax.set_xticklabels(labels)\n",
    "plt.show()"
   ]
  },
  {
   "cell_type": "markdown",
   "metadata": {},
   "source": [
    "From the average rankings for the Star Wars movie we can see that the best ranked movie is Episode V, but the first released trilogy (Episodes IV - VI) are ranked much higher than the prequel trilogy (Epsidoes I - III). I believe that repondents are more partial to the 'original' movies than the second trilogy. "
   ]
  },
  {
   "cell_type": "code",
   "execution_count": null,
   "metadata": {},
   "outputs": [],
   "source": [
    "seen_sums = star_wars[star_wars.columns[3:9]].sum()\n",
    "fig, ax = plt.subplots()\n",
    "ax.bar(index, seen_sums, width = width, color = 'g')\n",
    "ax.set_xticks(index)\n",
    "ax.set_xticklabels(labels)\n",
    "plt.show()"
   ]
  },
  {
   "cell_type": "markdown",
   "metadata": {},
   "source": [
    "However, when you look at how many people have viewed each movie we can see that Episode V, which has the highest ranking, also has the most viewership. One way to control for this is to only look at rankings of those who have said they saw all 6 movies."
   ]
  },
  {
   "cell_type": "code",
   "execution_count": null,
   "metadata": {},
   "outputs": [],
   "source": [
    "seen_all = star_wars[star_wars[star_wars.columns[3:9]].all(1) == True]\n",
    "fig, ax = plt.subplots()\n",
    "ax.bar(index, seen_all[seen_all.columns[9:15]].mean(), width)\n",
    "ax.set_xticks(index)\n",
    "ax.set_xticklabels(labels)\n",
    "plt.show()"
   ]
  },
  {
   "cell_type": "markdown",
   "metadata": {},
   "source": [
    "Now we see for everyone who watched all three movies that the original trilogy was much more popular than the prequel. Episode V is still the highest ranked episode. "
   ]
  },
  {
   "cell_type": "markdown",
   "metadata": {},
   "source": [
    "## Comparison based on gender"
   ]
  },
  {
   "cell_type": "code",
   "execution_count": 62,
   "metadata": {
    "collapsed": true
   },
   "outputs": [],
   "source": [
    "males = star_wars[star_wars[\"Gender\"] == \"Male\"]\n",
    "females = star_wars[star_wars[\"Gender\"] == \"Female\"]"
   ]
  },
  {
   "cell_type": "code",
   "execution_count": 88,
   "metadata": {
    "scrolled": true
   },
   "outputs": [
    {
     "data": {
      "image/png": "[encoded data removed]",
      "text/plain": [
       "<matplotlib.figure.Figure at 0x10ffc31d0>"
      ]
     },
     "metadata": {},
     "output_type": "display_data"
    }
   ],
   "source": [
    "# highest ranked movie\n",
    "d_width = 0.3\n",
    "fig, ax = plt.subplots()\n",
    "ax.bar(index, males[males.columns[9:15]].mean(), d_width, label = 'Men')\n",
    "ax.bar(index + d_width, females[females.columns[9:15]].mean(), d_width, label = 'Women')\n",
    "ax.set_xticks(index + d_width / 2)\n",
    "ax.set_xticklabels(labels)\n",
    "ax.legend(loc = \"upper right\")\n",
    "ax.set_title('Star Wars Movie Rankings by Gender')\n",
    "plt.show()"
   ]
  },
  {
   "cell_type": "code",
   "execution_count": 89,
   "metadata": {},
   "outputs": [
    {
     "data": {
      "image/png": "[encoded data removed]",
      "text/plain": [
       "<matplotlib.figure.Figure at 0x107c35438>"
      ]
     },
     "metadata": {},
     "output_type": "display_data"
    }
   ],
   "source": [
    "# most viewed movie \n",
    "fig, ax = plt.subplots()\n",
    "ax.bar(index, males[males.columns[3:9]].sum(), d_width, label = 'Men')\n",
    "ax.bar(index + d_width, females[females.columns[3:9]].sum(), d_width, label = 'Women')\n",
    "ax.set_xticks(index + d_width / 2)\n",
    "ax.set_xticklabels(labels)\n",
    "ax.legend(loc = \"upper right\")\n",
    "ax.set_title('Star Wars Movie Views by Gender')\n",
    "plt.show()"
   ]
  },
  {
   "cell_type": "markdown",
   "metadata": {},
   "source": [
    "This comparison shows that more men report seeing all of the Star Wars films though it seems that Epsiode V and VI have a smaller gap. Overall both genders like the original trilogy more than the prequel, but some episodes such as Episode I have a larger difference in ranking between genders. It would be interesting to compare the screen time of strong female characters throughout all the Star Wars movies and see if that plays a role in these rankings by gender."
   ]
  },
  {
   "cell_type": "code",
   "execution_count": null,
   "metadata": {
    "collapsed": true
   },
   "outputs": [],
   "source": []
  }
 ],
 "metadata": {
  "kernelspec": {
   "display_name": "Python 3",
   "language": "python",
   "name": "python3"
  },
  "language_info": {
   "codemirror_mode": {
    "name": "ipython",
    "version": 3
   },
   "file_extension": ".py",
   "mimetype": "text/x-python",
   "name": "python",
   "nbconvert_exporter": "python",
   "pygments_lexer": "ipython3",
   "version": "3.6.3"
  }
 },
 "nbformat": 4,
 "nbformat_minor": 1
}
